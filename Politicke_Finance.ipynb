{
 "cells": [
  {
   "cell_type": "code",
   "execution_count": 1,
   "metadata": {},
   "outputs": [],
   "source": [
    "import numpy as np\n",
    "import pandas as pd\n",
    "import os\n",
    "import requests\n",
    "from bs4 import BeautifulSoup\n",
    "from tqdm import tqdm\n",
    "from time import sleep"
   ]
  },
  {
   "cell_type": "code",
   "execution_count": 4,
   "metadata": {},
   "outputs": [
    {
     "data": {
      "text/plain": [
       "<Response [200]>"
      ]
     },
     "execution_count": 4,
     "metadata": {},
     "output_type": "execute_result"
    }
   ],
   "source": [
    "requests.get('http://www.politickefinance.cz/robots.txt')"
   ]
  },
  {
   "cell_type": "code",
   "execution_count": 7,
   "metadata": {},
   "outputs": [
    {
     "name": "stdout",
     "output_type": "stream",
     "text": [
      "\n"
     ]
    }
   ],
   "source": [
    "print(requests.get('http://www.politickefinance.cz/robots.txt').text)"
   ]
  },
  {
   "cell_type": "code",
   "execution_count": 108,
   "metadata": {},
   "outputs": [
    {
     "data": {
      "text/plain": [
       "['http://www.politickefinance.cz/cps/zebricek-stran/',\n",
       " 'http://www.politickefinance.cz/sz/zebricek-stran/',\n",
       " 'http://www.politickefinance.cz/sso/zebricek-stran/',\n",
       " 'http://www.politickefinance.cz/top09/zebricek-stran/',\n",
       " 'http://www.politickefinance.cz/kscm/zebricek-stran/',\n",
       " 'http://www.politickefinance.cz/stan/zebricek-stran/',\n",
       " 'http://www.politickefinance.cz/kducsl/zebricek-stran/',\n",
       " 'http://www.politickefinance.cz/cssd/zebricek-stran/',\n",
       " 'http://www.politickefinance.cz/ods/zebricek-stran/',\n",
       " 'http://www.politickefinance.cz/spo/zebricek-stran/',\n",
       " 'http://www.politickefinance.cz/spd/zebricek-stran/',\n",
       " 'http://www.politickefinance.cz/ano11/zebricek-stran/']"
      ]
     },
     "execution_count": 108,
     "metadata": {},
     "output_type": "execute_result"
    }
   ],
   "source": [
    "# Gradual testing - not final version, chci spat\n",
    "Instance_Finance = External('http://www.politickefinance.cz')\n",
    "Instance_Finance.getSoup() # OK\n",
    "Instance_Finance.getName() # OK\n",
    "Instance_Finance.getAllLinks() # OK"
   ]
  },
  {
   "cell_type": "code",
   "execution_count": 107,
   "metadata": {},
   "outputs": [],
   "source": [
    "class External:\n",
    "    '''\n",
    "    Downloader manager for External lecturers from IES\n",
    "    \n",
    "    It contains methods for collection of links, downloading itself and storing results\n",
    "    '''\n",
    "    def __init__(self, link):\n",
    "        '''\n",
    "        Creates the External object with self.links that store links to be downloaded\n",
    "        to store individual people teaching at IES\n",
    "        '''\n",
    "        self.link = link\n",
    "        \n",
    "    def getSoup(self):\n",
    "         \n",
    "        r = requests.get(self.link)\n",
    "        r.encoding = \"UTF-8\"\n",
    "        soup = BeautifulSoup(r.text, \"lxml\")\n",
    "        return soup\n",
    "    \n",
    "    def getName(self):\n",
    "        '''Extract the name of the political party.'''\n",
    "        soup2 = self.getSoup().findAll(\"div\", {\"class\": \"table-item table-item--name is-uppercase\"})\n",
    "        names = [s.text.strip() for s in soup2]\n",
    "        return names\n",
    "\n",
    "    def getAllLinks(self):\n",
    "        r = requests.get(self.link)\n",
    "        r.encoding = \"UTF-8\"\n",
    "        soup3 = BeautifulSoup(r.text, \"lxml\").findAll(\"a\", {\"class\": \"flex-row\"})\n",
    "        links = []\n",
    "        for li in soup3:\n",
    "            lili = (\"http://www.politickefinance.cz\" + li[\"href\"])\n",
    "            links.append(lili)\n",
    "        return links\n",
    "    "
   ]
  },
  {
   "cell_type": "code",
   "execution_count": 80,
   "metadata": {},
   "outputs": [],
   "source": [
    "# Gradually solely not by OOP - Soup:\n",
    "def getSoup(link):\n",
    "    sleep(0.1) #to be kind to the website\n",
    "    r = requests.get(link)\n",
    "    r.encoding = 'UTF-8'\n",
    "    return BeautifulSoup(r.text,'lxml')\n",
    "\n",
    "Bf = getSoup('http://www.politickefinance.cz/cps/zebricek-stran/')"
   ]
  },
  {
   "cell_type": "code",
   "execution_count": 84,
   "metadata": {},
   "outputs": [
    {
     "data": {
      "text/plain": [
       "'1'"
      ]
     },
     "execution_count": 84,
     "metadata": {},
     "output_type": "execute_result"
    }
   ],
   "source": [
    "Tds = Bf.find('div', {'class':'mark'})\n",
    "Tds.text.strip()"
   ]
  },
  {
   "cell_type": "code",
   "execution_count": 15,
   "metadata": {},
   "outputs": [
    {
     "data": {
      "text/plain": [
       "<div class=\"table-item table-item--name is-uppercase\">              Piráti</div>"
      ]
     },
     "execution_count": 15,
     "metadata": {},
     "output_type": "execute_result"
    }
   ],
   "source": [
    "Tds[0]"
   ]
  },
  {
   "cell_type": "code",
   "execution_count": 10,
   "metadata": {},
   "outputs": [
    {
     "data": {
      "text/plain": [
       "<div class=\"table-item table-item--name is-uppercase\">              Piráti</div>"
      ]
     },
     "execution_count": 10,
     "metadata": {},
     "output_type": "execute_result"
    }
   ],
   "source": [
    "tds = Bf.find('div', {'class':'table-item table-item--name is-uppercase'})\n",
    "tds"
   ]
  },
  {
   "cell_type": "code",
   "execution_count": 9,
   "metadata": {},
   "outputs": [
    {
     "data": {
      "text/plain": [
       "array([ 1,  2,  3,  4,  5,  6,  7,  8,  9, 10, 11, 12, 13, 14, 15, 16, 17,\n",
       "       18, 19, 20, 21, 22, 23, 24, 25, 26, 27, 28, 29, 30, 31, 32, 33, 34,\n",
       "       35, 36, 37, 38, 39, 40, 41, 42, 43, 44, 45, 46, 47, 48, 49, 50, 51,\n",
       "       52, 53, 54, 55, 56, 57, 58, 59, 60, 61, 62, 63, 64, 65, 66, 67, 68,\n",
       "       69, 70, 71, 72, 73, 74, 75, 76, 77, 78])"
      ]
     },
     "execution_count": 9,
     "metadata": {},
     "output_type": "execute_result"
    }
   ],
   "source": [
    "idx = np.linspace(1, 78, 78)\n",
    "idx = np.round(idx)\n",
    "idx = idx.astype(int)\n",
    "idx"
   ]
  },
  {
   "cell_type": "code",
   "execution_count": null,
   "metadata": {},
   "outputs": [],
   "source": [
    "  def getID(self):\n",
    "        '''Extract the ID of lecturer.'''\n",
    "           # 'https://ies.fsv.cuni.cz/en/staff/zeleny'\n",
    "        IDs = [id.split('/')[-1] for id in self.getAllLinks()]\n",
    "        return IDs\n",
    "    \n",
    "    def getNextSiblingOfStrong(self, characteristic):\n",
    "        '''\n",
    "        Function for the extraction of characteristics for lecturers\n",
    "        These are then specified in saveDFs function\n",
    "        '''\n",
    "        si = []\n",
    "        for li in self.getAllLinks():\n",
    "            si1 = requests.get(li)\n",
    "            si1.encoding = \"UTF-8\"\n",
    "            si2 = BeautifulSoup(si1.text, \"lxml\").find(\"strong\", text = characteristic).next_sibling.strip()\n",
    "            si.append(si2)\n",
    "            \n",
    "            return si\n",
    "        \n",
    "    def saveDFs(self):\n",
    "        '''Specifying characteristics for lecturers and generate Panda Data Frame.'''\n",
    "        names = self.getName()\n",
    "        ids = self.getID()\n",
    "        pos = self.getNextSiblingOfStrong(\"Position:\")\n",
    "        phones = self.getNextSiblingOfStrong(\"Phone:\")\n",
    "        office = self.getNextSiblingOfStrong(\"Office:\")\n",
    "        mail = self.getNextSiblingOfStrong(\"Email:\")\n",
    "        df = pd.DataFrame({\n",
    "            \"Name\": names, \n",
    "            \"Position\": pos,\n",
    "            \"Phone\": phones,\n",
    "            \"E-mail\": mail}, index = ids)\n",
    "        \n",
    "        return df"
   ]
  }
 ],
 "metadata": {
  "kernelspec": {
   "display_name": "Python 3",
   "language": "python",
   "name": "python3"
  },
  "language_info": {
   "codemirror_mode": {
    "name": "ipython",
    "version": 3
   },
   "file_extension": ".py",
   "mimetype": "text/x-python",
   "name": "python",
   "nbconvert_exporter": "python",
   "pygments_lexer": "ipython3",
   "version": "3.6.5"
  }
 },
 "nbformat": 4,
 "nbformat_minor": 2
}
