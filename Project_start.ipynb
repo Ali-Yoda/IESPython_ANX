{
 "cells": [
  {
   "cell_type": "markdown",
   "metadata": {},
   "source": [
    "### INTRODUCTION"
   ]
  },
  {
   "cell_type": "code",
   "execution_count": 1,
   "metadata": {},
   "outputs": [],
   "source": [
    "import numpy as np\n",
    "import pandas as pd\n",
    "import os\n",
    "import requests\n",
    "from bs4 import BeautifulSoup"
   ]
  },
  {
   "cell_type": "code",
   "execution_count": 43,
   "metadata": {},
   "outputs": [
    {
     "data": {
      "text/plain": [
       "<Response [200]>"
      ]
     },
     "execution_count": 43,
     "metadata": {},
     "output_type": "execute_result"
    }
   ],
   "source": [
    "requests.get('https://cro.justice.cz/robots.txt')"
   ]
  },
  {
   "cell_type": "code",
   "execution_count": 2,
   "metadata": {},
   "outputs": [
    {
     "name": "stdout",
     "output_type": "stream",
     "text": [
      "<!DOCTYPE html><html lang=\"en\"><head><meta http-equiv=\"X-UA-Compatible\" content=\"IE=edge\"><meta charset=\"utf-8\"><meta name=\"viewport\" content=\"width=device-width,initial-scale=1\"><link rel=\"shortcut icon\" href=\"/favicon.ico\"><title>Centrální registr oznámení</title><link href=\"/static/css/main.9e2cc9a1.css\" rel=\"stylesheet\"></head><body><div id=\"root\"></div><script type=\"text/javascript\" src=\"/static/js/main.f1e77434.js\"></script></body></html>\n"
     ]
    }
   ],
   "source": [
    "print(requests.get(\"https://cro.justice.cz/verejnost/funkcionari?q=starosta%20nov%C3%BD%20dv%C5%AFr\").text) # Using selenium - not complete source"
   ]
  },
  {
   "cell_type": "code",
   "execution_count": 6,
   "metadata": {
    "collapsed": true
   },
   "outputs": [
    {
     "name": "stdout",
     "output_type": "stream",
     "text": [
      "Collecting selenium\n",
      "  Downloading https://files.pythonhosted.org/packages/80/d6/4294f0b4bce4de0abf13e17190289f9d0613b0a44e5dd6a7f5ca98459853/selenium-3.141.0-py2.py3-none-any.whl (904kB)\n",
      "Requirement already satisfied: urllib3 in c:\\users\\aja\\anaconda3\\lib\\site-packages (from selenium) (1.22)\n",
      "Installing collected packages: selenium\n",
      "Successfully installed selenium-3.141.0\n"
     ]
    },
    {
     "name": "stderr",
     "output_type": "stream",
     "text": [
      "distributed 1.21.8 requires msgpack, which is not installed.\n",
      "You are using pip version 10.0.1, however version 20.1b1 is available.\n",
      "You should consider upgrading via the 'python -m pip install --upgrade pip' command.\n"
     ]
    }
   ],
   "source": [
    "!pip install selenium"
   ]
  },
  {
   "cell_type": "code",
   "execution_count": 44,
   "metadata": {},
   "outputs": [],
   "source": [
    "from selenium import webdriver\n",
    "from selenium.webdriver.common.by import By\n",
    "from selenium.webdriver.common.keys import Keys"
   ]
  },
  {
   "cell_type": "code",
   "execution_count": 45,
   "metadata": {},
   "outputs": [],
   "source": [
    "# CRO testing - selenium\n",
    "driver = webdriver.Chrome(\"C:/Program Files (x86)/Google/Chrome/Application/chromedriver\")"
   ]
  },
  {
   "cell_type": "code",
   "execution_count": 46,
   "metadata": {},
   "outputs": [],
   "source": [
    "# exactly the page by stating \"mayor\" and the name of the municipality - we will use these two keywords when creating a loop,\n",
    "# i.e. \"mayor\" and the name of individual municipalities, which will be uploaded from the csv file\n",
    "\n",
    "driver.get('https://cro.justice.cz/verejnost/funkcionari?q=starosta%20brno-malom%C4%9B%C5%99ice') "
   ]
  },
  {
   "cell_type": "code",
   "execution_count": 47,
   "metadata": {},
   "outputs": [],
   "source": [
    "driver.quit()"
   ]
  },
  {
   "cell_type": "markdown",
   "metadata": {},
   "source": [
    "### INITIAL CLASSES + SOME CODES NEEDED IN FUTURE\n",
    "Including identified problems and questions for the consultation on Wednesday."
   ]
  },
  {
   "cell_type": "code",
   "execution_count": 3,
   "metadata": {},
   "outputs": [],
   "source": [
    "class InputData:\n",
    "    '''\n",
    "    Class intended for the preparation of input data containing the list of Czehc municipalities.\n",
    "    \n",
    "    It contains methods for loading data and creating list of urls, \n",
    "    which will be then used in the Downloader manager \"Mayors\".\n",
    "    '''\n",
    "    def __init__(self, data):\n",
    "        '''\n",
    "        Creates the InputData object with self.data that store input data to be prepared.\n",
    "        '''\n",
    "        self.data = data\n",
    "        \n",
    "    def loadData(self):\n",
    "        '''\n",
    "        Loades input data with municipalities and extracts individual names of municipalities.\n",
    "        '''\n",
    "        input_data = pd.read_csv(self.data, sep = \",\")\n",
    "        names = input_data.iloc[:,1].values\n",
    "        return names\n",
    "    \n",
    "    def createLinks(self):\n",
    "        '''\n",
    "        Creates a list of urls which will be then needed for the class Mayors to download data about individual mayors.\n",
    "        '''\n",
    "        links = []\n",
    "        for n in self.loadData():\n",
    "            if (len(n.split(\" \"))) == 2:\n",
    "                n1 = \"https://cro.justice.cz/verejnost/funkcionari?q=starosta%20\" + n.split(\" \")[0] + \"%20\" + n.split(\" \")[1]\n",
    "            elif (len(n.split(\" \"))) == 3:\n",
    "                n1 = \"https://cro.justice.cz/verejnost/funkcionari?q=starosta%20\" + n.split(\" \")[0] + \"%20\" + n.split(\" \")[1] + \"%20\" + n.split(\" \")[2]\n",
    "            elif (len(n.split(\" \"))) == 4:      \n",
    "                n1 = \"https://cro.justice.cz/verejnost/funkcionari?q=starosta%20\" + n.split(\" \")[0] + \"%20\" + n.split(\" \")[1] + \"%20\" + n.split(\" \")[2] + \"%20\" + n.split(\" \")[3]\n",
    "            elif (len(n.split(\" \"))) == 5:\n",
    "                n1 = \"https://cro.justice.cz/verejnost/funkcionari?q=starosta%20\" + n.split(\" \")[0] + \"%20\" + n.split(\" \")[1] + \"%20\" + n.split(\" \")[2] + \"%20\" + n.split(\" \")[3] + \"%20\" + n.split(\" \")[4]\n",
    "            elif (len(n.split(\" \"))) == 7:\n",
    "                 n1 = \"https://cro.justice.cz/verejnost/funkcionari?q=starosta%20\" + n.split(\" \")[0] + \"%20\" + n.split(\" \")[1] + \"%20\" + n.split(\" \")[2] + \"%20\" + n.split(\" \")[3] + \"%20\" + n.split(\" \")[4] + \"%20\" + n.split(\" \")[5] + \"%20\" + n.split(\" \")[6]\n",
    "            else: \n",
    "                n1 = \"https://cro.justice.cz/verejnost/funkcionari?q=starosta%20\" + n\n",
    "            links.append(n1)\n",
    "            \n",
    "        return links"
   ]
  },
  {
   "cell_type": "code",
   "execution_count": 49,
   "metadata": {},
   "outputs": [
    {
     "data": {
      "text/plain": [
       "['https://cro.justice.cz/verejnost/funkcionari?q=starosta%20Libhošť',\n",
       " 'https://cro.justice.cz/verejnost/funkcionari?q=starosta%20Krhová',\n",
       " 'https://cro.justice.cz/verejnost/funkcionari?q=starosta%20Nový%20Dvůr',\n",
       " 'https://cro.justice.cz/verejnost/funkcionari?q=starosta%20Starý%20Jičín']"
      ]
     },
     "execution_count": 49,
     "metadata": {},
     "output_type": "execute_result"
    }
   ],
   "source": [
    "## Testing our class using testing data sample which was created below (containing only 4 entries; final input data has\n",
    "#  more than 6000 entries. Please see section \"ALL INPUT DATA\" for furher details. 4 links as output.\n",
    "Instance_Data = InputData(\"Test.csv\")\n",
    "links = Instance_Data.createLinks()\n",
    "links"
   ]
  },
  {
   "cell_type": "markdown",
   "metadata": {},
   "source": [
    "**Question no. 1:**\n",
    "\n",
    "If condition created since respective links (after specifying keyword \"mayor\" and the name of individual municipalities) differ with respect to names of municipalities, i.e. number of words - see also section \"ALL INPUT DATA\" below for further details. **Is there any way how to write the if condition with respect to the issues mentioned above?**"
   ]
  },
  {
   "cell_type": "code",
   "execution_count": 50,
   "metadata": {},
   "outputs": [],
   "source": [
    "driver = webdriver.Chrome(\"C:/Program Files (x86)/Google/Chrome/Application/chromedriver\") # Insert to class Mayors?"
   ]
  },
  {
   "cell_type": "code",
   "execution_count": 51,
   "metadata": {},
   "outputs": [],
   "source": [
    "# Not complete - just few initial lines of codes as we identified many problems. Please see related questions below.\n",
    "class Mayors:\n",
    "    \n",
    "    def __init__(self, urls):\n",
    "        \n",
    "        self.urls = urls\n",
    "    \n",
    "    def getName(self):\n",
    "        mayors = []\n",
    "        \n",
    "        for u in self.urls:\n",
    "            driver.get(u)\n",
    "            soup_cro = BeautifulSoup(driver.page_source, 'lxml')\n",
    "            for s in soup_cro:\n",
    "                people = soup_cro.findAll('td', {'class':'text'})\n",
    "                for p in people:\n",
    "                    data_test = p.text\n",
    "                    mayors.append(data_test)\n",
    "        return mayors\n",
    "            \n",
    "# will also contain a method to convert output to the pd.data frame          \n",
    "            "
   ]
  },
  {
   "cell_type": "code",
   "execution_count": 52,
   "metadata": {
    "collapsed": true
   },
   "outputs": [
    {
     "data": {
      "text/plain": [
       "['Josef',\n",
       " 'Klos',\n",
       " 'Obec Libhošť',\n",
       " 'místostarosta / zástupce starosty',\n",
       " '05. 11. 2018 - ',\n",
       " 'Jiří',\n",
       " 'Petrovský',\n",
       " 'Obec Libhošť',\n",
       " 'starosta',\n",
       " '05. 11. 2018 - ',\n",
       " 'Karla',\n",
       " 'Chybová',\n",
       " 'Obec Libhošť',\n",
       " 'místostarosta / zástupce starosty',\n",
       " '04. 11. 2014 - 05. 11. 2018',\n",
       " 'Helena',\n",
       " 'Šimíčková',\n",
       " 'Obec Libhošť',\n",
       " 'starosta',\n",
       " '01. 02. 2011 - 05. 11. 2018',\n",
       " 'Lukáš',\n",
       " 'Macíček',\n",
       " 'Krhová, Obec Krhová',\n",
       " 'místostarosta / zástupce starosty, místostarosta / zástupce starosty',\n",
       " '05. 11. 2018 - , 14. 05. 2017 - 05. 11. 2018',\n",
       " 'Kateřina',\n",
       " 'Halaštová',\n",
       " 'Krhová, Obec Krhová',\n",
       " 'starosta, starosta',\n",
       " '05. 11. 2018 - , 14. 05. 2015 - 05. 11. 2018',\n",
       " 'Irena',\n",
       " 'Jeníková',\n",
       " 'Obec Nový Dvůr',\n",
       " 'místostarosta / zástupce starosty',\n",
       " '30. 10. 2018 - ',\n",
       " 'Lubor',\n",
       " 'Skořepa',\n",
       " 'Obec Nový Dvůr',\n",
       " 'místostarosta / zástupce starosty',\n",
       " '09. 11. 2014 - 30. 10. 2018',\n",
       " 'Martin',\n",
       " 'Macoun',\n",
       " 'Obec Nový Dvůr, Obec Nový Dvůr',\n",
       " 'starosta, starosta',\n",
       " '09. 11. 2014 - 30. 10. 2018, 30. 10. 2018 - ',\n",
       " 'Miroslav',\n",
       " 'Klimpar',\n",
       " 'Obec Starý Jičín , Obec Starý Jičín',\n",
       " 'místostarosta / zástupce starosty, místostarosta / zástupce starosty',\n",
       " '05. 11. 2014 - 31. 10. 2018, 31. 10. 2018 - ',\n",
       " 'Rudolf',\n",
       " 'Hrnčíř',\n",
       " 'Obec Starý Jičín , Obec Starý Jičín',\n",
       " 'starosta, starosta',\n",
       " '05. 11. 2014 - 31. 10. 2018, 31. 10. 2018 - ']"
      ]
     },
     "execution_count": 52,
     "metadata": {},
     "output_type": "execute_result"
    }
   ],
   "source": [
    "## Testing our class using testing data sample which was created below (containing only 4 entries; final input data has\n",
    "## more than 6000 entries. Please see section \"ALL INPUT DATA\" for furher details. 4 links as output.\n",
    "## Basically we need all information listed with each entry, specifically: Name, Surname, Organisation (municipality),\n",
    "## Function, and the Period druing which the function was hold. The attribute Title can be omitted.\n",
    "Instance_Mayor = Mayors(links)\n",
    "Instance_Mayor.getName()"
   ]
  },
  {
   "cell_type": "markdown",
   "metadata": {},
   "source": [
    "**Question no. 2:**\n",
    "\n",
    "Please see related examples and the final summary below."
   ]
  },
  {
   "cell_type": "code",
   "execution_count": 27,
   "metadata": {},
   "outputs": [
    {
     "data": {
      "text/plain": [
       "'JiříPetrovskýing.Obec Libhošťstarosta05. 11. 2018 - '"
      ]
     },
     "execution_count": 27,
     "metadata": {},
     "output_type": "execute_result"
    }
   ],
   "source": [
    "# If you put this link into the browser you obtain four entries including people in a function of \"místostarosta\" and etc.\n",
    "# so the solution would be to put keyword \"starosta\" BUT - see another code below\n",
    "driver.get('https://cro.justice.cz/verejnost/funkcionari?q=starosta%20Libhošť')\n",
    "soup_cro = BeautifulSoup(driver.page_source, 'lxml') \n",
    "person = soup_cro.find(\"span\", text = \"starosta\").parent.parent\n",
    "person.text"
   ]
  },
  {
   "cell_type": "code",
   "execution_count": 28,
   "metadata": {},
   "outputs": [
    {
     "data": {
      "text/plain": [
       "'starosta, starosta'"
      ]
     },
     "execution_count": 28,
     "metadata": {},
     "output_type": "execute_result"
    }
   ],
   "source": [
    "# Continue: sometimes you have there \"starosta, starosta\" - so it cannot be done using keyword \"starosta\"\n",
    "# If using selenium functions find by a part of text - we would also obtain místostarosta which we do not want\n",
    "driver.get('https://cro.justice.cz/verejnost/funkcionari?q=starosta%20nov%C3%BD%20dv%C5%AFr')\n",
    "soup_cro = BeautifulSoup(driver.page_source, 'lxml') \n",
    "person = soup_cro.find(\"span\", text = \"starosta, starosta\")\n",
    "person.text # just for illustration - not tracking particular element"
   ]
  },
  {
   "cell_type": "code",
   "execution_count": 29,
   "metadata": {},
   "outputs": [],
   "source": [
    "# Sometimes you have more than wanted entries, in this case 446 - putting municipality \"Tísek\"\n",
    "# will also load all people called \"František\"\n",
    "# can be then modified in the final dataframe BUT we have more than 6000 municipalities\n",
    "# and saving all entries will slow down a process a lot.\n",
    "driver.get('https://cro.justice.cz/verejnost/funkcionari?q=starosta%20t%C3%ADsek')\n"
   ]
  },
  {
   "cell_type": "markdown",
   "metadata": {},
   "source": [
    "So we are now struggling with this issue, i.e. how to narrow the entries to include only mayors (\"starosta\") and not people holding other functions. We would be happy to discuss this issue. The same applies for the municipalities - see the example below."
   ]
  },
  {
   "cell_type": "code",
   "execution_count": 30,
   "metadata": {},
   "outputs": [],
   "source": [
    "# Listing also other municipalities except for Prague 1\n",
    "driver.get(\"https://cro.justice.cz/verejnost/funkcionari?q=starosta%20praha%201\")"
   ]
  },
  {
   "cell_type": "code",
   "execution_count": 31,
   "metadata": {},
   "outputs": [],
   "source": [
    "# Sometime the name of a municipality is written in a wrong way, but we guess that there is no solution for this\n",
    "# problem and this must be solved by hand.\n",
    "driver.get(\"https://cro.justice.cz/verejnost/funkcionari?q=starosta%20%C5%BEelechovice%20nad%20d%C5%99evnic%C3%AD\")\n",
    "driver.get(\"https://cro.justice.cz/verejnost/funkcionari?q=starosta%20%C5%BEelechovice%20nad%20d%C5%99envic%C3%AD\")"
   ]
  },
  {
   "cell_type": "markdown",
   "metadata": {},
   "source": [
    "**Question no.3:**\n",
    "\n",
    "The issue with the scroll button - but we would like to solve the problems listed above firstly. See the example below.\n",
    "So we will focus on this later."
   ]
  },
  {
   "cell_type": "code",
   "execution_count": 36,
   "metadata": {},
   "outputs": [
    {
     "data": {
      "text/plain": [
       "'Bíro'"
      ]
     },
     "execution_count": 36,
     "metadata": {},
     "output_type": "execute_result"
    }
   ],
   "source": [
    "# Not able to identify entries listed at the second page\n",
    "driver.get(\"https://cro.justice.cz/verejnost/funkcionari?q=starosta%20Praha%201\")\n",
    "soup_cro = BeautifulSoup(driver.page_source, 'lxml')\n",
    "person_ok = soup_cro.find(\"span\", text = \"Bíro\")\n",
    "person_ok.text"
   ]
  },
  {
   "cell_type": "code",
   "execution_count": 38,
   "metadata": {
    "collapsed": true
   },
   "outputs": [
    {
     "ename": "AttributeError",
     "evalue": "'NoneType' object has no attribute 'text'",
     "output_type": "error",
     "traceback": [
      "\u001b[1;31m---------------------------------------------------------------------------\u001b[0m",
      "\u001b[1;31mAttributeError\u001b[0m                            Traceback (most recent call last)",
      "\u001b[1;32m<ipython-input-38-000b22d5fb83>\u001b[0m in \u001b[0;36m<module>\u001b[1;34m()\u001b[0m\n\u001b[0;32m      1\u001b[0m \u001b[1;31m# Not able to identify entries listed at the second page\u001b[0m\u001b[1;33m\u001b[0m\u001b[1;33m\u001b[0m\u001b[0m\n\u001b[0;32m      2\u001b[0m \u001b[0mperson_nope\u001b[0m \u001b[1;33m=\u001b[0m \u001b[0msoup_cro\u001b[0m\u001b[1;33m.\u001b[0m\u001b[0mfind\u001b[0m\u001b[1;33m(\u001b[0m\u001b[1;34m\"span\"\u001b[0m\u001b[1;33m,\u001b[0m \u001b[0mtext\u001b[0m \u001b[1;33m=\u001b[0m \u001b[1;34m\"Samec\"\u001b[0m\u001b[1;33m)\u001b[0m\u001b[1;33m\u001b[0m\u001b[0m\n\u001b[1;32m----> 3\u001b[1;33m \u001b[0mperson_nope\u001b[0m\u001b[1;33m.\u001b[0m\u001b[0mtext\u001b[0m\u001b[1;33m\u001b[0m\u001b[0m\n\u001b[0m",
      "\u001b[1;31mAttributeError\u001b[0m: 'NoneType' object has no attribute 'text'"
     ]
    }
   ],
   "source": [
    "# Not able to identify entries listed at the second page\n",
    "person_nope = soup_cro.find(\"span\", text = \"Samec\")\n",
    "person_nope.text"
   ]
  },
  {
   "cell_type": "markdown",
   "metadata": {},
   "source": [
    "### ALL INPUT DATA\n",
    "The list of municipalities entering a for loop.\n",
    "Finding characteristics + creating test data sample."
   ]
  },
  {
   "cell_type": "code",
   "execution_count": 4,
   "metadata": {},
   "outputs": [
    {
     "data": {
      "text/html": [
       "<div>\n",
       "<style scoped>\n",
       "    .dataframe tbody tr th:only-of-type {\n",
       "        vertical-align: middle;\n",
       "    }\n",
       "\n",
       "    .dataframe tbody tr th {\n",
       "        vertical-align: top;\n",
       "    }\n",
       "\n",
       "    .dataframe thead th {\n",
       "        text-align: right;\n",
       "    }\n",
       "</style>\n",
       "<table border=\"1\" class=\"dataframe\">\n",
       "  <thead>\n",
       "    <tr style=\"text-align: right;\">\n",
       "      <th></th>\n",
       "      <th>Kód zastupitelstva</th>\n",
       "      <th>Název</th>\n",
       "    </tr>\n",
       "  </thead>\n",
       "  <tbody>\n",
       "    <tr>\n",
       "      <th>0</th>\n",
       "      <td>500011</td>\n",
       "      <td>Želechovice nad Dřevnicí</td>\n",
       "    </tr>\n",
       "    <tr>\n",
       "      <th>1</th>\n",
       "      <td>500020</td>\n",
       "      <td>Petrov nad Desnou</td>\n",
       "    </tr>\n",
       "    <tr>\n",
       "      <th>2</th>\n",
       "      <td>500046</td>\n",
       "      <td>Libhošť</td>\n",
       "    </tr>\n",
       "    <tr>\n",
       "      <th>3</th>\n",
       "      <td>500054</td>\n",
       "      <td>Praha 1</td>\n",
       "    </tr>\n",
       "    <tr>\n",
       "      <th>4</th>\n",
       "      <td>500062</td>\n",
       "      <td>Krhová</td>\n",
       "    </tr>\n",
       "  </tbody>\n",
       "</table>\n",
       "</div>"
      ],
      "text/plain": [
       "   Kód zastupitelstva                     Název\n",
       "0              500011  Želechovice nad Dřevnicí\n",
       "1              500020         Petrov nad Desnou\n",
       "2              500046                   Libhošť\n",
       "3              500054                   Praha 1\n",
       "4              500062                    Krhová"
      ]
     },
     "execution_count": 4,
     "metadata": {},
     "output_type": "execute_result"
    }
   ],
   "source": [
    "df_all = pd.read_csv(\"All_data.csv\", sep = \",\")\n",
    "df_all.head(5)"
   ]
  },
  {
   "cell_type": "code",
   "execution_count": 5,
   "metadata": {},
   "outputs": [
    {
     "data": {
      "text/plain": [
       "array(['Želechovice nad Dřevnicí', 'Petrov nad Desnou', 'Libhošť', ...,\n",
       "       'Tichá', 'Tísek', 'Trojanovice'], dtype=object)"
      ]
     },
     "execution_count": 5,
     "metadata": {},
     "output_type": "execute_result"
    }
   ],
   "source": [
    "names_all = df_all.iloc[:,1].values\n",
    "names_all"
   ]
  },
  {
   "cell_type": "code",
   "execution_count": 6,
   "metadata": {},
   "outputs": [],
   "source": [
    "# Charcateristics of our municipalities - the link with differ with the count of word in the name of a municipality\n",
    "sizes = []\n",
    "for i in names_all:\n",
    "    l = len(i.split())\n",
    "    sizes.append(l)"
   ]
  },
  {
   "cell_type": "code",
   "execution_count": 7,
   "metadata": {},
   "outputs": [
    {
     "data": {
      "text/plain": [
       "7"
      ]
     },
     "execution_count": 7,
     "metadata": {},
     "output_type": "execute_result"
    }
   ],
   "source": [
    "max(sizes) # finding a maximum - 7"
   ]
  },
  {
   "cell_type": "code",
   "execution_count": 8,
   "metadata": {},
   "outputs": [
    {
     "data": {
      "text/plain": [
       "Counter({3: 360, 1: 5175, 2: 787, 4: 53, 5: 5, 7: 1})"
      ]
     },
     "execution_count": 8,
     "metadata": {},
     "output_type": "execute_result"
    }
   ],
   "source": [
    "import collections # Finding frequencies\n",
    "collections.Counter(sizes)\n"
   ]
  },
  {
   "cell_type": "code",
   "execution_count": 9,
   "metadata": {},
   "outputs": [
    {
     "data": {
      "text/html": [
       "<div>\n",
       "<style scoped>\n",
       "    .dataframe tbody tr th:only-of-type {\n",
       "        vertical-align: middle;\n",
       "    }\n",
       "\n",
       "    .dataframe tbody tr th {\n",
       "        vertical-align: top;\n",
       "    }\n",
       "\n",
       "    .dataframe thead th {\n",
       "        text-align: right;\n",
       "    }\n",
       "</style>\n",
       "<table border=\"1\" class=\"dataframe\">\n",
       "  <thead>\n",
       "    <tr style=\"text-align: right;\">\n",
       "      <th></th>\n",
       "      <th>Kód zastupitelstva</th>\n",
       "      <th>Název</th>\n",
       "      <th>No_words</th>\n",
       "    </tr>\n",
       "  </thead>\n",
       "  <tbody>\n",
       "    <tr>\n",
       "      <th>0</th>\n",
       "      <td>500011</td>\n",
       "      <td>Želechovice nad Dřevnicí</td>\n",
       "      <td>3</td>\n",
       "    </tr>\n",
       "    <tr>\n",
       "      <th>1</th>\n",
       "      <td>500020</td>\n",
       "      <td>Petrov nad Desnou</td>\n",
       "      <td>3</td>\n",
       "    </tr>\n",
       "    <tr>\n",
       "      <th>2</th>\n",
       "      <td>500046</td>\n",
       "      <td>Libhošť</td>\n",
       "      <td>1</td>\n",
       "    </tr>\n",
       "    <tr>\n",
       "      <th>3</th>\n",
       "      <td>500054</td>\n",
       "      <td>Praha 1</td>\n",
       "      <td>2</td>\n",
       "    </tr>\n",
       "    <tr>\n",
       "      <th>4</th>\n",
       "      <td>500062</td>\n",
       "      <td>Krhová</td>\n",
       "      <td>1</td>\n",
       "    </tr>\n",
       "  </tbody>\n",
       "</table>\n",
       "</div>"
      ],
      "text/plain": [
       "   Kód zastupitelstva                     Název  No_words\n",
       "0              500011  Želechovice nad Dřevnicí         3\n",
       "1              500020         Petrov nad Desnou         3\n",
       "2              500046                   Libhošť         1\n",
       "3              500054                   Praha 1         2\n",
       "4              500062                    Krhová         1"
      ]
     },
     "execution_count": 9,
     "metadata": {},
     "output_type": "execute_result"
    }
   ],
   "source": [
    "df_all['No_words'] = sizes\n",
    "df_all.head(5)"
   ]
  },
  {
   "cell_type": "code",
   "execution_count": 40,
   "metadata": {},
   "outputs": [
    {
     "data": {
      "text/html": [
       "<div>\n",
       "<style scoped>\n",
       "    .dataframe tbody tr th:only-of-type {\n",
       "        vertical-align: middle;\n",
       "    }\n",
       "\n",
       "    .dataframe tbody tr th {\n",
       "        vertical-align: top;\n",
       "    }\n",
       "\n",
       "    .dataframe thead th {\n",
       "        text-align: right;\n",
       "    }\n",
       "</style>\n",
       "<table border=\"1\" class=\"dataframe\">\n",
       "  <thead>\n",
       "    <tr style=\"text-align: right;\">\n",
       "      <th></th>\n",
       "      <th>Kód zastupitelstva</th>\n",
       "      <th>Název</th>\n",
       "      <th>No_words</th>\n",
       "    </tr>\n",
       "  </thead>\n",
       "  <tbody>\n",
       "    <tr>\n",
       "      <th>2</th>\n",
       "      <td>500046</td>\n",
       "      <td>Libhošť</td>\n",
       "      <td>1</td>\n",
       "    </tr>\n",
       "    <tr>\n",
       "      <th>4</th>\n",
       "      <td>500062</td>\n",
       "      <td>Krhová</td>\n",
       "      <td>1</td>\n",
       "    </tr>\n",
       "    <tr>\n",
       "      <th>6358</th>\n",
       "      <td>599654</td>\n",
       "      <td>Nový Dvůr</td>\n",
       "      <td>2</td>\n",
       "    </tr>\n",
       "    <tr>\n",
       "      <th>6374</th>\n",
       "      <td>599905</td>\n",
       "      <td>Starý Jičín</td>\n",
       "      <td>2</td>\n",
       "    </tr>\n",
       "  </tbody>\n",
       "</table>\n",
       "</div>"
      ],
      "text/plain": [
       "      Kód zastupitelstva        Název  No_words\n",
       "2                 500046      Libhošť         1\n",
       "4                 500062       Krhová         1\n",
       "6358              599654    Nový Dvůr         2\n",
       "6374              599905  Starý Jičín         2"
      ]
     },
     "execution_count": 40,
     "metadata": {},
     "output_type": "execute_result"
    }
   ],
   "source": [
    "# Creating test data sample\n",
    "x = df_all.loc[df_all[\"No_words\"] == 1].head(2)\n",
    "y = df_all.loc[df_all[\"No_words\"] == 2].tail(2)\n",
    "test_1 = pd.concat([x, y], join = \"outer\")\n",
    "test_1"
   ]
  },
  {
   "cell_type": "code",
   "execution_count": null,
   "metadata": {},
   "outputs": [],
   "source": [
    "test_1.to_csv(\"Test.csv\", sep=',', encoding = 'utf-8', index = False) # which is then used above for classes"
   ]
  },
  {
   "cell_type": "markdown",
   "metadata": {},
   "source": [
    "### SOME TESTING CODES\n",
    "You can skip these - just for our purposes."
   ]
  },
  {
   "cell_type": "code",
   "execution_count": 41,
   "metadata": {},
   "outputs": [
    {
     "data": {
      "text/plain": [
       "array([1., 2., 3., 4., 5.])"
      ]
     },
     "execution_count": 41,
     "metadata": {},
     "output_type": "execute_result"
    }
   ],
   "source": [
    "idx = np.linspace(1, 5, 5)\n",
    "idx"
   ]
  },
  {
   "cell_type": "code",
   "execution_count": 204,
   "metadata": {},
   "outputs": [
    {
     "data": {
      "text/html": [
       "<div>\n",
       "<style scoped>\n",
       "    .dataframe tbody tr th:only-of-type {\n",
       "        vertical-align: middle;\n",
       "    }\n",
       "\n",
       "    .dataframe tbody tr th {\n",
       "        vertical-align: top;\n",
       "    }\n",
       "\n",
       "    .dataframe thead th {\n",
       "        text-align: right;\n",
       "    }\n",
       "</style>\n",
       "<table border=\"1\" class=\"dataframe\">\n",
       "  <thead>\n",
       "    <tr style=\"text-align: right;\">\n",
       "      <th></th>\n",
       "      <th>Kód zastupitelstva</th>\n",
       "      <th>Název</th>\n",
       "      <th>No_words</th>\n",
       "    </tr>\n",
       "  </thead>\n",
       "  <tbody>\n",
       "    <tr>\n",
       "      <th>6379</th>\n",
       "      <td>599964</td>\n",
       "      <td>Tísek</td>\n",
       "      <td>1</td>\n",
       "    </tr>\n",
       "    <tr>\n",
       "      <th>6380</th>\n",
       "      <td>599999</td>\n",
       "      <td>Trojanovice</td>\n",
       "      <td>1</td>\n",
       "    </tr>\n",
       "    <tr>\n",
       "      <th>6358</th>\n",
       "      <td>599654</td>\n",
       "      <td>Nový Dvůr</td>\n",
       "      <td>2</td>\n",
       "    </tr>\n",
       "    <tr>\n",
       "      <th>6374</th>\n",
       "      <td>599905</td>\n",
       "      <td>Starý Jičín</td>\n",
       "      <td>2</td>\n",
       "    </tr>\n",
       "    <tr>\n",
       "      <th>6339</th>\n",
       "      <td>599468</td>\n",
       "      <td>Jeseník nad Odrou</td>\n",
       "      <td>3</td>\n",
       "    </tr>\n",
       "    <tr>\n",
       "      <th>6376</th>\n",
       "      <td>599930</td>\n",
       "      <td>Suchdol nad Odrou</td>\n",
       "      <td>3</td>\n",
       "    </tr>\n",
       "    <tr>\n",
       "      <th>6272</th>\n",
       "      <td>598739</td>\n",
       "      <td>Stará Ves nad Ondřejnicí</td>\n",
       "      <td>4</td>\n",
       "    </tr>\n",
       "    <tr>\n",
       "      <th>6300</th>\n",
       "      <td>599034</td>\n",
       "      <td>Zhoř u Mladé Vožice</td>\n",
       "      <td>4</td>\n",
       "    </tr>\n",
       "    <tr>\n",
       "      <th>3243</th>\n",
       "      <td>563455</td>\n",
       "      <td>Nová Ves u Mladé Vožice</td>\n",
       "      <td>5</td>\n",
       "    </tr>\n",
       "    <tr>\n",
       "      <th>3277</th>\n",
       "      <td>563790</td>\n",
       "      <td>Rychnov u Jablonce nad Nisou</td>\n",
       "      <td>5</td>\n",
       "    </tr>\n",
       "  </tbody>\n",
       "</table>\n",
       "</div>"
      ],
      "text/plain": [
       "      Kód zastupitelstva                         Název  No_words\n",
       "6379              599964                         Tísek         1\n",
       "6380              599999                   Trojanovice         1\n",
       "6358              599654                     Nový Dvůr         2\n",
       "6374              599905                   Starý Jičín         2\n",
       "6339              599468             Jeseník nad Odrou         3\n",
       "6376              599930             Suchdol nad Odrou         3\n",
       "6272              598739      Stará Ves nad Ondřejnicí         4\n",
       "6300              599034           Zhoř u Mladé Vožice         4\n",
       "3243              563455       Nová Ves u Mladé Vožice         5\n",
       "3277              563790  Rychnov u Jablonce nad Nisou         5"
      ]
     },
     "execution_count": 204,
     "metadata": {},
     "output_type": "execute_result"
    }
   ],
   "source": [
    "test = []\n",
    "for i in idx:\n",
    "    x = df_all.loc[df_all[\"No_words\"] == i].tail(2)\n",
    "    test.append(x)\n",
    "test = pd.concat(test)\n",
    "test"
   ]
  },
  {
   "cell_type": "code",
   "execution_count": 208,
   "metadata": {},
   "outputs": [
    {
     "data": {
      "text/plain": [
       "array(['Tísek', 'Trojanovice', 'Nový Dvůr', 'Starý Jičín',\n",
       "       'Jeseník nad Odrou', 'Suchdol nad Odrou',\n",
       "       'Stará Ves nad Ondřejnicí', 'Zhoř u Mladé Vožice',\n",
       "       'Nová Ves u Mladé Vožice', 'Rychnov u Jablonce nad Nisou'],\n",
       "      dtype=object)"
      ]
     },
     "execution_count": 208,
     "metadata": {},
     "output_type": "execute_result"
    }
   ],
   "source": [
    "names = test.iloc[:,1].values\n",
    "names"
   ]
  },
  {
   "cell_type": "code",
   "execution_count": 217,
   "metadata": {},
   "outputs": [
    {
     "data": {
      "text/plain": [
       "['https://cro.justice.cz/verejnost/funkcionari?q=starosta%20Tísek',\n",
       " 'https://cro.justice.cz/verejnost/funkcionari?q=starosta%20Trojanovice',\n",
       " 'https://cro.justice.cz/verejnost/funkcionari?q=starosta%20Nový%20Dvůr',\n",
       " 'https://cro.justice.cz/verejnost/funkcionari?q=starosta%20Starý%20Jičín',\n",
       " 'https://cro.justice.cz/verejnost/funkcionari?q=starosta%20Jeseník%20nad%20Odrou',\n",
       " 'https://cro.justice.cz/verejnost/funkcionari?q=starosta%20Suchdol%20nad%20Odrou',\n",
       " 'https://cro.justice.cz/verejnost/funkcionari?q=starosta%20Stará%20Ves%20nad%20Ondřejnicí',\n",
       " 'https://cro.justice.cz/verejnost/funkcionari?q=starosta%20Zhoř%20u%20Mladé%20Vožice',\n",
       " 'https://cro.justice.cz/verejnost/funkcionari?q=starosta%20Nová%20Ves%20u%20Mladé%20Vožice',\n",
       " 'https://cro.justice.cz/verejnost/funkcionari?q=starosta%20Rychnov%20u%20Jablonce%20nad%20Nisou']"
      ]
     },
     "execution_count": 217,
     "metadata": {},
     "output_type": "execute_result"
    }
   ],
   "source": [
    "links"
   ]
  },
  {
   "cell_type": "code",
   "execution_count": 221,
   "metadata": {},
   "outputs": [
    {
     "data": {
      "text/plain": [
       "array(['Tísek', 'Trojanovice'], dtype=object)"
      ]
     },
     "execution_count": 221,
     "metadata": {},
     "output_type": "execute_result"
    }
   ],
   "source": [
    "# Again simplified example to write a class:\n",
    "test_1 = df_all.loc[df_all[\"No_words\"] == 1].tail(2)\n",
    "test_1\n",
    "names = test_1.iloc[:,1].values\n",
    "names"
   ]
  },
  {
   "cell_type": "code",
   "execution_count": 224,
   "metadata": {},
   "outputs": [
    {
     "data": {
      "text/plain": [
       "['https://cro.justice.cz/verejnost/funkcionari?q=starosta%20Tísek',\n",
       " 'https://cro.justice.cz/verejnost/funkcionari?q=starosta%20Trojanovice']"
      ]
     },
     "execution_count": 224,
     "metadata": {},
     "output_type": "execute_result"
    }
   ],
   "source": [
    "urls = []\n",
    "for n in names:\n",
    "    n1 = \"https://cro.justice.cz/verejnost/funkcionari?q=starosta%20\" + n   \n",
    "    urls.append(n1)\n",
    "urls"
   ]
  },
  {
   "cell_type": "code",
   "execution_count": 227,
   "metadata": {},
   "outputs": [],
   "source": [
    "d3 = []\n",
    "for u in urls:\n",
    "    driver.get(u)\n",
    "    soup_cro = BeautifulSoup(driver.page_source, 'lxml')\n",
    "    d2 = soup_cro.find(\"title\").text\n",
    "    d3.append(d2)"
   ]
  },
  {
   "cell_type": "code",
   "execution_count": 228,
   "metadata": {},
   "outputs": [
    {
     "data": {
      "text/plain": [
       "['Centrální registr oznámení', 'Centrální registr oznámení']"
      ]
     },
     "execution_count": 228,
     "metadata": {},
     "output_type": "execute_result"
    }
   ],
   "source": [
    "d3"
   ]
  },
  {
   "cell_type": "code",
   "execution_count": 144,
   "metadata": {},
   "outputs": [],
   "source": [
    "idx_1 = \n",
    "test_1 = []\n",
    "for i in idx_1:\n",
    "    x = df_all.loc[df_all[\"No_words\"] == i].tail(2)\n",
    "    test_1.append(x)\n",
    "test_1 = pd.concat(test_1)"
   ]
  },
  {
   "cell_type": "code",
   "execution_count": 229,
   "metadata": {},
   "outputs": [
    {
     "data": {
      "text/html": [
       "<div>\n",
       "<style scoped>\n",
       "    .dataframe tbody tr th:only-of-type {\n",
       "        vertical-align: middle;\n",
       "    }\n",
       "\n",
       "    .dataframe tbody tr th {\n",
       "        vertical-align: top;\n",
       "    }\n",
       "\n",
       "    .dataframe thead th {\n",
       "        text-align: right;\n",
       "    }\n",
       "</style>\n",
       "<table border=\"1\" class=\"dataframe\">\n",
       "  <thead>\n",
       "    <tr style=\"text-align: right;\">\n",
       "      <th></th>\n",
       "      <th>Kód zastupitelstva</th>\n",
       "      <th>Název</th>\n",
       "      <th>No_words</th>\n",
       "    </tr>\n",
       "  </thead>\n",
       "  <tbody>\n",
       "    <tr>\n",
       "      <th>6379</th>\n",
       "      <td>599964</td>\n",
       "      <td>Tísek</td>\n",
       "      <td>1</td>\n",
       "    </tr>\n",
       "    <tr>\n",
       "      <th>6380</th>\n",
       "      <td>599999</td>\n",
       "      <td>Trojanovice</td>\n",
       "      <td>1</td>\n",
       "    </tr>\n",
       "  </tbody>\n",
       "</table>\n",
       "</div>"
      ],
      "text/plain": [
       "      Kód zastupitelstva        Název  No_words\n",
       "6379              599964        Tísek         1\n",
       "6380              599999  Trojanovice         1"
      ]
     },
     "execution_count": 229,
     "metadata": {},
     "output_type": "execute_result"
    }
   ],
   "source": [
    "test_1"
   ]
  },
  {
   "cell_type": "code",
   "execution_count": 196,
   "metadata": {},
   "outputs": [
    {
     "data": {
      "text/plain": [
       "array(['Tísek', 'Trojanovice', 'Nový Dvůr', 'Starý Jičín'], dtype=object)"
      ]
     },
     "execution_count": 196,
     "metadata": {},
     "output_type": "execute_result"
    }
   ],
   "source": [
    "names = test_1.iloc[:,1].values\n",
    "names"
   ]
  },
  {
   "cell_type": "code",
   "execution_count": 200,
   "metadata": {},
   "outputs": [],
   "source": [
    "d1 = []\n",
    "for n in names:\n",
    "    if (len(n.split(\" \"))) == 2:\n",
    "        n1 = \"https://cro.justice.cz/verejnost/funkcionari?q=starosta%20\" + n.split(\" \")[0] + \"%20\" + n.split(\" \")[1]\n",
    "    else:\n",
    "        n1 = \"https://cro.justice.cz/verejnost/funkcionari?q=starosta%20\" + n   \n",
    "    d1.append(n1)"
   ]
  },
  {
   "cell_type": "code",
   "execution_count": 201,
   "metadata": {},
   "outputs": [
    {
     "data": {
      "text/plain": [
       "['https://cro.justice.cz/verejnost/funkcionari?q=starosta%20Tísek',\n",
       " 'https://cro.justice.cz/verejnost/funkcionari?q=starosta%20Trojanovice',\n",
       " 'https://cro.justice.cz/verejnost/funkcionari?q=starosta%20Nový%20Dvůr',\n",
       " 'https://cro.justice.cz/verejnost/funkcionari?q=starosta%20Starý%20Jičín']"
      ]
     },
     "execution_count": 201,
     "metadata": {},
     "output_type": "execute_result"
    }
   ],
   "source": [
    "d1"
   ]
  },
  {
   "cell_type": "code",
   "execution_count": 160,
   "metadata": {},
   "outputs": [
    {
     "data": {
      "text/plain": [
       "array(['Nový Dvůr', 'Starý Jičín'], dtype=object)"
      ]
     },
     "execution_count": 160,
     "metadata": {},
     "output_type": "execute_result"
    }
   ],
   "source": [
    "test_2 = []\n",
    "x = df_all.loc[df_all[\"No_words\"] == 2].tail(2)\n",
    "test_2.append(x)\n",
    "test_2 = pd.concat(test_2)\n",
    "test_2\n",
    "names_2 = test_2.iloc[:,1].values\n",
    "names_2"
   ]
  },
  {
   "cell_type": "code",
   "execution_count": null,
   "metadata": {},
   "outputs": [],
   "source": [
    "driver.quit()"
   ]
  }
 ],
 "metadata": {
  "kernelspec": {
   "display_name": "Python 3",
   "language": "python",
   "name": "python3"
  },
  "language_info": {
   "codemirror_mode": {
    "name": "ipython",
    "version": 3
   },
   "file_extension": ".py",
   "mimetype": "text/x-python",
   "name": "python",
   "nbconvert_exporter": "python",
   "pygments_lexer": "ipython3",
   "version": "3.6.5"
  }
 },
 "nbformat": 4,
 "nbformat_minor": 2
}
